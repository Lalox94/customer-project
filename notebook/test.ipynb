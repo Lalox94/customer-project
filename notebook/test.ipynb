{
 "cells": [
  {
   "cell_type": "code",
   "execution_count": 2,
   "metadata": {},
   "outputs": [
    {
     "name": "stdout",
     "output_type": "stream",
     "text": [
      "base de datos conectada\n"
     ]
    }
   ],
   "source": [
    "import sqlite3\n",
    "conn = sqlite3.connect('../sql/producto.db')\n",
    "\n",
    "c = conn.cursor()\n",
    "print ('base de datos conectada')\n"
   ]
  },
  {
   "cell_type": "code",
   "execution_count": null,
   "metadata": {},
   "outputs": [],
   "source": [
    "c"
   ]
  },
  {
   "cell_type": "markdown",
   "metadata": {},
   "source": [
    "# insert"
   ]
  },
  {
   "cell_type": "code",
   "execution_count": null,
   "metadata": {},
   "outputs": [],
   "source": [
    "cadena = 'prueba'\n",
    "print(f'el contenido de cadena es = {cadena}')"
   ]
  },
  {
   "cell_type": "code",
   "execution_count": null,
   "metadata": {},
   "outputs": [],
   "source": []
  },
  {
   "cell_type": "code",
   "execution_count": null,
   "metadata": {},
   "outputs": [],
   "source": [
    " print(\"Nombre producto\")\n",
    "nombre = input()\n",
    "print(\"Descripcion\")\n",
    "descripcion = input()\n",
    "print(\"Cantidad\")\n",
    "cantidad = input()\n",
    "print(\"Producto\",nombre)"
   ]
  },
  {
   "cell_type": "code",
   "execution_count": null,
   "metadata": {},
   "outputs": [],
   "source": [
    "slq = f\"INSERT INTO producto(nombre,descripcion,cantidad) values ('{nombre}','{descripcion}',{cantidad})\""
   ]
  },
  {
   "cell_type": "code",
   "execution_count": null,
   "metadata": {},
   "outputs": [],
   "source": [
    "c.execute(f\"INSERT INTO producto(nombre,descripcion,cantidad) values ('{nombre}','{descripcion}',{cantidad})\")\n",
    "\n",
    "         "
   ]
  },
  {
   "cell_type": "code",
   "execution_count": null,
   "metadata": {},
   "outputs": [],
   "source": [
    " print(\"Nombre Cliente\")\n",
    "nombre = input()\n",
    "print(\"RFC\")\n",
    "rfc = input()\n",
    "print(\"Ciudad\")\n",
    "ciudad = input()\n",
    "print(\"Dirección\")\n",
    "direccion= input()"
   ]
  },
  {
   "cell_type": "code",
   "execution_count": null,
   "metadata": {},
   "outputs": [],
   "source": [
    "c.execute(f\"INSERT INTO customer(nombre,rfc,ciudad,direccion) values ('{nombre}','{rfc}','{ciudad}','{direccion}')\")"
   ]
  },
  {
   "cell_type": "code",
   "execution_count": 4,
   "metadata": {},
   "outputs": [],
   "source": [
    "conn.commit()"
   ]
  },
  {
   "cell_type": "code",
   "execution_count": null,
   "metadata": {},
   "outputs": [],
   "source": []
  },
  {
   "cell_type": "markdown",
   "metadata": {},
   "source": [
    "\n"
   ]
  },
  {
   "cell_type": "code",
   "execution_count": 8,
   "metadata": {
    "scrolled": false
   },
   "outputs": [
    {
     "data": {
      "text/plain": [
       "<sqlite3.Cursor at 0x7efc040b9260>"
      ]
     },
     "execution_count": 8,
     "metadata": {},
     "output_type": "execute_result"
    }
   ],
   "source": [
    "\n"
   ]
  },
  {
   "cell_type": "code",
   "execution_count": null,
   "metadata": {},
   "outputs": [],
   "source": []
  },
  {
   "cell_type": "code",
   "execution_count": 16,
   "metadata": {
    "scrolled": true
   },
   "outputs": [
    {
     "name": "stdout",
     "output_type": "stream",
     "text": [
      "Nombre producto\n",
      "azucar\n",
      "Descripcion\n",
      "caja\n",
      "Cantidad\n",
      "4\n",
      "Producto azucar\n",
      "10\n",
      "Producto azucar\n",
      "Datos guardados\n"
     ]
    }
   ],
   "source": [
    "print(\"Nombre producto\")\n",
    "nombre = input()\n",
    "print(\"Descripcion\")\n",
    "descripcion = input()\n",
    "print(\"Cantidad\")\n",
    "cantidad = input()\n",
    "print(\"Producto\",nombre)\n",
    "idt = input()\n",
    "print(\"Producto\",nombre)\n",
    "\n",
    "sentencia = \"UPDATE producto SET nombre = ?, descripcion = ?, cantidad = ? WHERE id = ?;\"\n",
    "c.execute(sentencia, [nombre, descripcion, cantidad, idt])\n",
    "conn.commit()\n",
    "print(\"Datos guardados\")\n"
   ]
  },
  {
   "cell_type": "code",
   "execution_count": 17,
   "metadata": {},
   "outputs": [
    {
     "name": "stdout",
     "output_type": "stream",
     "text": [
      "Se elimino\n"
     ]
    }
   ],
   "source": [
    "\n",
    "idt = 12\n",
    "sentencia = \"DELETE FROM producto WHERE id = ?;\"\n",
    "c.execute(sentencia, [idt])\n",
    "conn.commit()\n",
    "print(\"Se elimino\")\n"
   ]
  },
  {
   "cell_type": "code",
   "execution_count": null,
   "metadata": {},
   "outputs": [],
   "source": []
  },
  {
   "cell_type": "code",
   "execution_count": 1,
   "metadata": {},
   "outputs": [
    {
     "ename": "NameError",
     "evalue": "name 'conn' is not defined",
     "output_type": "error",
     "traceback": [
      "\u001b[0;31m---------------------------------------------------------------------------\u001b[0m",
      "\u001b[0;31mNameError\u001b[0m                                 Traceback (most recent call last)",
      "\u001b[0;32m<ipython-input-1-8dd0cd799055>\u001b[0m in \u001b[0;36m<module>\u001b[0;34m\u001b[0m\n\u001b[0;32m----> 1\u001b[0;31m \u001b[0mconn\u001b[0m\u001b[0;34m.\u001b[0m\u001b[0mclose\u001b[0m\u001b[0;34m(\u001b[0m\u001b[0;34m)\u001b[0m\u001b[0;34m\u001b[0m\u001b[0;34m\u001b[0m\u001b[0m\n\u001b[0m",
      "\u001b[0;31mNameError\u001b[0m: name 'conn' is not defined"
     ]
    }
   ],
   "source": [
    "conn.close()"
   ]
  },
  {
   "cell_type": "code",
   "execution_count": null,
   "metadata": {},
   "outputs": [],
   "source": []
  },
  {
   "cell_type": "code",
   "execution_count": null,
   "metadata": {},
   "outputs": [],
   "source": []
  },
  {
   "cell_type": "code",
   "execution_count": null,
   "metadata": {},
   "outputs": [],
   "source": []
  },
  {
   "cell_type": "code",
   "execution_count": 10,
   "metadata": {},
   "outputs": [
    {
     "name": "stdout",
     "output_type": "stream",
     "text": [
      "(1, 'cafe', 'contenido 1k', 2)\n",
      "(2, 'galletas', 'presentacion caja', 3)\n",
      "(3, 'Leche', 'presentacion caja', 4)\n",
      "(4, 'galletas2', 'bolsa 1k', 3)\n",
      "(5, 'galletas2', 'bolsa 1k', 3)\n"
     ]
    }
   ],
   "source": [
    "for row in c.execute('SELECT * FROM producto'):\n",
    "        print(row)"
   ]
  },
  {
   "cell_type": "code",
   "execution_count": 38,
   "metadata": {},
   "outputs": [],
   "source": [
    "list_id = []\n",
    "list_nom = []\n",
    "list_des = []\n",
    "list_cant = []\n",
    "\n",
    "dicc = {}\n"
   ]
  },
  {
   "cell_type": "code",
   "execution_count": 43,
   "metadata": {},
   "outputs": [],
   "source": [
    "for row in c.execute('SELECT * FROM producto'):\n",
    "    list_id.append(row[0])\n",
    "    list_nom.append(row[1])\n",
    "    list_des.append(row[2])\n",
    "    list_cant.append(row[3])\n",
    "    \n",
    "dicc['id'] = list_id\n",
    "dicc['nombre'] = list_nom    \n",
    "dicc['descripcion'] = list_des  \n",
    "dicc['cantidad'] = list_cant  "
   ]
  },
  {
   "cell_type": "code",
   "execution_count": 44,
   "metadata": {},
   "outputs": [
    {
     "data": {
      "text/plain": [
       "{'id': [1, 2, 3, 4, 5, 1, 2, 3, 4, 5, 6, 1, 2, 3, 4, 5, 6],\n",
       " 'nombre': ['cafe',\n",
       "  'galletas',\n",
       "  'Leche',\n",
       "  'galletas2',\n",
       "  'galletas2',\n",
       "  'cafe',\n",
       "  'galletas',\n",
       "  'Leche',\n",
       "  'galletas2',\n",
       "  'galletas2',\n",
       "  'OKKI',\n",
       "  'cafe',\n",
       "  'galletas',\n",
       "  'Leche',\n",
       "  'galletas2',\n",
       "  'galletas2',\n",
       "  'OKKI'],\n",
       " 'descripcion': ['contenido 1k',\n",
       "  'presentacion caja',\n",
       "  'presentacion caja',\n",
       "  'bolsa 1k',\n",
       "  'bolsa 1k',\n",
       "  'bolsa 1k'],\n",
       " 'cantidad': [2, 3, 4, 3, 3, 3]}"
      ]
     },
     "execution_count": 44,
     "metadata": {},
     "output_type": "execute_result"
    }
   ],
   "source": [
    "dicc"
   ]
  },
  {
   "cell_type": "code",
   "execution_count": null,
   "metadata": {},
   "outputs": [],
   "source": []
  },
  {
   "cell_type": "code",
   "execution_count": null,
   "metadata": {},
   "outputs": [],
   "source": [
    " "
   ]
  },
  {
   "cell_type": "code",
   "execution_count": null,
   "metadata": {},
   "outputs": [],
   "source": []
  }
 ],
 "metadata": {
  "kernelspec": {
   "display_name": "Python 3",
   "language": "python",
   "name": "python3"
  },
  "language_info": {
   "codemirror_mode": {
    "name": "ipython",
    "version": 3
   },
   "file_extension": ".py",
   "mimetype": "text/x-python",
   "name": "python",
   "nbconvert_exporter": "python",
   "pygments_lexer": "ipython3",
   "version": "3.6.7"
  }
 },
 "nbformat": 4,
 "nbformat_minor": 2
}
